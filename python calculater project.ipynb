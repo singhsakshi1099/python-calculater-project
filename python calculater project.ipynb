{
 "cells": [
  {
   "cell_type": "code",
   "execution_count": 1,
   "id": "064144dd-0866-4f00-9517-c1bfa64db4de",
   "metadata": {},
   "outputs": [
    {
     "name": "stdin",
     "output_type": "stream",
     "text": [
      "enter first number :  6\n",
      "enter operator(+,-,/,%) :  +\n",
      "enter second number :  6\n"
     ]
    },
    {
     "name": "stdout",
     "output_type": "stream",
     "text": [
      "12\n"
     ]
    }
   ],
   "source": [
    "first = input(\"enter first number : \")\n",
    "operator = input(\"enter operator(+,-,/,%) : \")\n",
    "second = input(\"enter second number : \")\n",
    "\n",
    "first = int(first)\n",
    "second = int(second)\n",
    "\n",
    "if operator == \"+\":\n",
    "    print(first + second)\n",
    "elif operator == \"-\":\n",
    "    print(first-second)\n",
    "elif operator == \"*\":\n",
    "    print(first*second)\n",
    "elif operator == \"/\":\n",
    "    print(first/second)\n",
    "else:\n",
    "    print(\"Invalid operation\")"
   ]
  },
  {
   "cell_type": "code",
   "execution_count": null,
   "id": "7fe279a1-70da-4d3f-b37b-57b6f6e93c18",
   "metadata": {},
   "outputs": [],
   "source": []
  }
 ],
 "metadata": {
  "kernelspec": {
   "display_name": "Python 3 (ipykernel)",
   "language": "python",
   "name": "python3"
  },
  "language_info": {
   "codemirror_mode": {
    "name": "ipython",
    "version": 3
   },
   "file_extension": ".py",
   "mimetype": "text/x-python",
   "name": "python",
   "nbconvert_exporter": "python",
   "pygments_lexer": "ipython3",
   "version": "3.12.3"
  }
 },
 "nbformat": 4,
 "nbformat_minor": 5
}
